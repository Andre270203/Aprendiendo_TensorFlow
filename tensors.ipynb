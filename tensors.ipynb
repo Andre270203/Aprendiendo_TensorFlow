{
  "nbformat": 4,
  "nbformat_minor": 0,
  "metadata": {
    "colab": {
      "provenance": [],
      "authorship_tag": "ABX9TyNTB4Eq3jlGsJqQXJyd9dxD",
      "include_colab_link": true
    },
    "kernelspec": {
      "name": "python3",
      "display_name": "Python 3"
    },
    "language_info": {
      "name": "python"
    }
  },
  "cells": [
    {
      "cell_type": "markdown",
      "metadata": {
        "id": "view-in-github",
        "colab_type": "text"
      },
      "source": [
        "<a href=\"https://colab.research.google.com/github/Andre270203/Aprendiendo_TensorFlow/blob/main/tensors.ipynb\" target=\"_parent\"><img src=\"https://colab.research.google.com/assets/colab-badge.svg\" alt=\"Open In Colab\"/></a>"
      ]
    },
    {
      "cell_type": "code",
      "source": [
        "# pip install tensorflow"
      ],
      "metadata": {
        "id": "ri0CI_fzC9LT"
      },
      "execution_count": 10,
      "outputs": []
    },
    {
      "cell_type": "code",
      "source": [
        "import tensorflow as tf"
      ],
      "metadata": {
        "id": "Yac0RPesC84-"
      },
      "execution_count": 3,
      "outputs": []
    },
    {
      "cell_type": "markdown",
      "source": [
        "# Ejemplo de como crear diferentes tensores\n",
        "\n",
        "Un tensor es una estructura matemática que se utiliza para representar datos multidimensionales. En términos sencillos, un tensor es como una matriz, pero con más de dos dimensiones.\n",
        "\n",
        "Los tensores son esenciales en TensorFlow porque permiten representar y manipular datos multidimensionales, lo que es fundamental para la construcción y entrenamiento de modelos de aprendizaje automático."
      ],
      "metadata": {
        "id": "x-FP7kc0CVRg"
      }
    },
    {
      "cell_type": "code",
      "execution_count": 5,
      "metadata": {
        "id": "eRKZpAMzBUyJ"
      },
      "outputs": [],
      "source": [
        "string = tf.Variable(\"this is a string\", tf.string)\n",
        "number = tf.Variable(123, tf.int16)\n",
        "floating = tf.Variable(3.456,tf.float64)"
      ]
    },
    {
      "cell_type": "markdown",
      "source": [
        "# RANK\n",
        "\n",
        "El rank de un tensor se refiere al número de dimensiones o ejes que tiene un tensor.\n",
        "\n",
        "Por ejemplo, un tensor escalar (un número) tiene rank 0, un tensor vectorial (como un vector columna o fila) tiene rank 1, un tensor matriz tiene rank 2 y un tensor tridimensional (como un cubo de datos) tiene rank 3."
      ],
      "metadata": {
        "id": "YKK8NEcHKRpe"
      }
    },
    {
      "cell_type": "code",
      "source": [
        "rank1_tensor = tf.Variable([\"test\",'ok','tim'], tf.string)\n",
        "rank2_tensor = tf.Variable([[\"test\",'ok'],[\"andre\", \"yes\"]],tf.string)"
      ],
      "metadata": {
        "id": "ZYlNX66EDd4H"
      },
      "execution_count": 7,
      "outputs": []
    },
    {
      "cell_type": "markdown",
      "source": [
        "# Check the rank\n",
        "\n",
        "El método .rank se utiliza para obtener el rank o la cantidad de dimensiones de un tensor. El rank de un tensor es importante para comprender cómo se puede operar con él y para determinar la forma correcta de una operación en TensorFlow."
      ],
      "metadata": {
        "id": "Ot9h2F_uEpQh"
      }
    },
    {
      "cell_type": "code",
      "source": [
        "tf.rank(rank2_tensor)"
      ],
      "metadata": {
        "colab": {
          "base_uri": "https://localhost:8080/"
        },
        "id": "gp7LjYvWD98y",
        "outputId": "de919e62-e9b8-4020-a256-3eca22146de3"
      },
      "execution_count": 8,
      "outputs": [
        {
          "output_type": "execute_result",
          "data": {
            "text/plain": [
              "<tf.Tensor: shape=(), dtype=int32, numpy=2>"
            ]
          },
          "metadata": {},
          "execution_count": 8
        }
      ]
    },
    {
      "cell_type": "markdown",
      "source": [
        "# Check the shape\n",
        "\n",
        "El método .shape se utiliza para obtener la forma o tamaño de un tensor. La forma de un tensor es una tupla que contiene la cantidad de elementos en cada dimensión del tensor.\n",
        "\n",
        "Es muy útil en TensorFlow porque permite conocer la forma de los datos que se están manejando en una red neuronal, lo que ayuda a diseñar la arquitectura de la red y a entender cómo se están realizando las operaciones en cada capa."
      ],
      "metadata": {
        "id": "cMfZ5R9uEr9e"
      }
    },
    {
      "cell_type": "code",
      "source": [
        "rank2_tensor.shape"
      ],
      "metadata": {
        "colab": {
          "base_uri": "https://localhost:8080/"
        },
        "id": "C4DyY28lEHh2",
        "outputId": "6e6fe639-202d-4922-f6a9-4963241d2662"
      },
      "execution_count": 9,
      "outputs": [
        {
          "output_type": "execute_result",
          "data": {
            "text/plain": [
              "TensorShape([2, 2])"
            ]
          },
          "metadata": {},
          "execution_count": 9
        }
      ]
    },
    {
      "cell_type": "markdown",
      "source": [
        "#Changing shape\n",
        "\n",
        "El método .reshape se utiliza para cambiar la forma de un tensor sin cambiar sus elementos. El método .reshape devuelve un nuevo tensor con la misma cantidad de elementos que el tensor original, pero con una forma diferente.\n",
        "\n",
        "Es útil en TensorFlow porque permite cambiar la forma de los datos que se están manejando en una red neuronal, lo que puede ser necesario en algunas situaciones. Por ejemplo, cuando se está trabajando con imágenes, es común cambiar la forma de los tensores para que se ajusten a la entrada de una capa de convolución."
      ],
      "metadata": {
        "id": "aNR6qsBZE4VW"
      }
    },
    {
      "cell_type": "code",
      "source": [
        "tensor1 = tf.ones([1,2,3]) #tf.ones() creates a shape [1,2,3] tensor full of ones\n",
        "tensor2 = tf.reshape(tensor1, [2,3,1]) #reshape existing data to shape [2,3,1]\n",
        "tensor3 = tf.reshape(tensor2, [3,-1]) #-1 tells the tensor to calculate the size of the dimenson in that place\n",
        "                                      #this will reshape the tensor to [3,2]"
      ],
      "metadata": {
        "id": "Lyulc-pJE6sL"
      },
      "execution_count": 18,
      "outputs": []
    },
    {
      "cell_type": "code",
      "source": [
        "print(tensor1)\n",
        "print(\"--------------------------\")\n",
        "print(tensor2)\n",
        "print(\"--------------------------\")\n",
        "print(tensor3)"
      ],
      "metadata": {
        "colab": {
          "base_uri": "https://localhost:8080/"
        },
        "id": "TFkf4s72GNFp",
        "outputId": "99f84ae8-d935-4f6c-c1db-d4010b1166b4"
      },
      "execution_count": 17,
      "outputs": [
        {
          "output_type": "stream",
          "name": "stdout",
          "text": [
            "tf.Tensor(\n",
            "[[[1. 1. 1.]\n",
            "  [1. 1. 1.]]], shape=(1, 2, 3), dtype=float32)\n",
            "--------------------------\n",
            "tf.Tensor(\n",
            "[[[1.]\n",
            "  [1.]\n",
            "  [1.]]\n",
            "\n",
            " [[1.]\n",
            "  [1.]\n",
            "  [1.]]], shape=(2, 3, 1), dtype=float32)\n",
            "--------------------------\n",
            "tf.Tensor(\n",
            "[[1. 1.]\n",
            " [1. 1.]\n",
            " [1. 1.]], shape=(3, 2), dtype=float32)\n"
          ]
        }
      ]
    },
    {
      "cell_type": "markdown",
      "source": [
        "# Types of sensor\n",
        "\n",
        "\n",
        "1.   Variable\n",
        "2.   Constant\n",
        "3.   Placeholder\n",
        "4.   SparseTensor\n",
        "\n",
        "\n",
        "\n",
        "\n"
      ],
      "metadata": {
        "id": "bkJ3cMKbHD5E"
      }
    },
    {
      "cell_type": "markdown",
      "source": [
        "# Evaluate tensor\n",
        "\n",
        "Evaluar un tensor significa obtener su valor numérico. En otras palabras, cuando se evalúa un tensor, se calcula el valor numérico de todos los elementos del tensor."
      ],
      "metadata": {
        "id": "YHMjDonLI1es"
      }
    },
    {
      "cell_type": "markdown",
      "source": [
        "# Ejemplo de reshape"
      ],
      "metadata": {
        "id": "xIudgidTRaX0"
      }
    },
    {
      "cell_type": "code",
      "source": [
        "t= tf.zeros([5,5,5,5])\n",
        "print(t)"
      ],
      "metadata": {
        "id": "XUmeTL_pI535"
      },
      "execution_count": null,
      "outputs": []
    },
    {
      "cell_type": "code",
      "source": [
        "t = tf.reshape(t,[125,-1])\n",
        "print(t)"
      ],
      "metadata": {
        "id": "1u0CjGNsJFz1"
      },
      "execution_count": null,
      "outputs": []
    }
  ]
}